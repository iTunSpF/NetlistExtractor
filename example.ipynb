{
 "cells": [
  {
   "cell_type": "code",
   "execution_count": 1,
   "metadata": {},
   "outputs": [
    {
     "name": "stdout",
     "output_type": "stream",
     "text": [
      "节点总数：62\n"
     ]
    }
   ],
   "source": [
    "import networkx as nx\n",
    "from vparser import verilog_parser\n",
    "from graphize import HeterDiG_GateWireNodePinEdge\n",
    "from pathlib import Path\n",
    "import os\n",
    "\n",
    "retval = os.getcwd()\n",
    "benchmark_repo = \"TAU15\"\n",
    "\n",
    "#design_name = \"c17\"\n",
    "#design_name = \"simple\"   \n",
    "design_name = \"s27\"   \n",
    "\n",
    "lib_name = \"NangateOpenCellLibrary_typical\"\n",
    "\n",
    "file_name = f\"{retval}/benchmarks/{benchmark_repo}/{design_name}/{design_name}.v\"\n",
    "\n",
    "path = Path(file_name)\n",
    "io_flag = 1\n",
    "\n",
    "module_name, inputs, outputs, wires, gates = verilog_parser(path,io_flag)\n",
    "netlist = HeterDiG_GateWireNodePinEdge(io_flag=io_flag)\n",
    "netlist.build(path, io_flag)\n",
    "print(\"节点总数：\" + str(len(netlist)))\n"
   ]
  },
  {
   "cell_type": "code",
   "execution_count": 2,
   "metadata": {},
   "outputs": [
    {
     "name": "stdout",
     "output_type": "stream",
     "text": [
      "已成功将图保存到 graph_data/s27_raw.gpickle 文件中。\n"
     ]
    }
   ],
   "source": [
    "netlist.save(\"graph_data/\" + design_name + \"_raw\")"
   ]
  },
  {
   "cell_type": "code",
   "execution_count": 3,
   "metadata": {},
   "outputs": [
    {
     "name": "stdout",
     "output_type": "stream",
     "text": [
      "已成功从 graph_data/s27_raw.gpickle 中读取并加载类型为 <class 'networkx.classes.multidigraph.MultiDiGraph'> 的图。\n"
     ]
    }
   ],
   "source": [
    "netlist.load(\"graph_data/\" + design_name + \"_raw\")"
   ]
  },
  {
   "cell_type": "code",
   "execution_count": 4,
   "metadata": {},
   "outputs": [
    {
     "data": {
      "image/png": "[encoded data removed]",
      "text/plain": [
       "<Figure size 640x480 with 1 Axes>"
      ]
     },
     "metadata": {},
     "output_type": "display_data"
    }
   ],
   "source": [
    "# 绘制网表的结构\n",
    "# 当网表规模较大时不建议使用\n",
    "netlist.draw()"
   ]
  },
  {
   "cell_type": "code",
   "execution_count": 5,
   "metadata": {},
   "outputs": [
    {
     "name": "stdout",
     "output_type": "stream",
     "text": [
      "True\n",
      "62\n",
      "['inst_19', 'inst_12', 'inst_8', 'inst_2', 'inst_1', 'inst_21', 'inst_25', 'inst_7', 'inst_20', 'inst_13', 'inst_27', 'inst_26', 'inst_0', 'inst_18', 'inst_24', 'inst_3', 'inst_6', 'inst_9', 'inst_5', 'inst_10', 'inst_4', 'inst_23', 'inst_11', 'inst_28', 'inst_22']\n",
      "['inst_14', 'inst_15', 'inst_16']\n",
      "['INV_X1', 'INV_X2', 'NOR3_X4', 'CLKBUF_X2', 'NOR2_X4', 'INV_X4', 'DFFR_X2', 'NAND2_X2', 'NOR2_X2']\n",
      "['G1', 'reset_net', 'G3', 'clk_net', 'G2', 'G0']\n"
     ]
    }
   ],
   "source": [
    "print(netlist.is_cyclic())\n",
    "print(len(netlist))\n",
    "print(netlist.gates)\n",
    "print(netlist.flipflops)\n",
    "print(netlist.nsubtypes)\n",
    "print(netlist.inputs)"
   ]
  },
  {
   "cell_type": "code",
   "execution_count": 6,
   "metadata": {},
   "outputs": [
    {
     "name": "stdout",
     "output_type": "stream",
     "text": [
      "{0: {'type': 'fanin', 'subtype': 'A1'}}\n",
      "{'type': 'flipflop', 'function': 'DFFR', 'spec': '2', 'subtype': 'DFFR_X2', 'fanin': {'RN': 'net_12', 'D': 'net_10', 'CK': 'net_27'}, 'fanout': {'QN': 'net_3'}}\n",
      "['G1', 'reset_net', 'G3', 'clk_net', 'G2', 'G0']\n"
     ]
    },
    {
     "ename": "KeyError",
     "evalue": "'inst_522'",
     "output_type": "error",
     "traceback": [
      "\u001b[1;31m---------------------------------------------------------------------------\u001b[0m",
      "\u001b[1;31mKeyError\u001b[0m                                  Traceback (most recent call last)",
      "\u001b[1;32m~\\AppData\\Local\\Temp\\ipykernel_13904\\3716723324.py\u001b[0m in \u001b[0;36m<module>\u001b[1;34m\u001b[0m\n\u001b[0;32m      2\u001b[0m \u001b[0mprint\u001b[0m\u001b[1;33m(\u001b[0m\u001b[0mnetlist\u001b[0m\u001b[1;33m.\u001b[0m\u001b[0mnodes\u001b[0m\u001b[1;33m[\u001b[0m\u001b[1;34m\"inst_14\"\u001b[0m\u001b[1;33m]\u001b[0m\u001b[1;33m)\u001b[0m\u001b[1;33m\u001b[0m\u001b[1;33m\u001b[0m\u001b[0m\n\u001b[0;32m      3\u001b[0m \u001b[0mprint\u001b[0m\u001b[1;33m(\u001b[0m\u001b[0mnetlist\u001b[0m\u001b[1;33m.\u001b[0m\u001b[0mfilter_niotype\u001b[0m\u001b[1;33m(\u001b[0m\u001b[1;34m\"input\"\u001b[0m\u001b[1;33m,\u001b[0m\u001b[0mio_flag\u001b[0m\u001b[1;33m=\u001b[0m\u001b[0mio_flag\u001b[0m\u001b[1;33m)\u001b[0m\u001b[1;33m)\u001b[0m\u001b[1;33m\u001b[0m\u001b[1;33m\u001b[0m\u001b[0m\n\u001b[1;32m----> 4\u001b[1;33m \u001b[0mprint\u001b[0m\u001b[1;33m(\u001b[0m\u001b[0mnetlist\u001b[0m\u001b[1;33m.\u001b[0m\u001b[0medges\u001b[0m\u001b[1;33m[\u001b[0m\u001b[1;34m\"G2\"\u001b[0m\u001b[1;33m,\u001b[0m\u001b[1;34m\"inst_522\"\u001b[0m\u001b[1;33m,\u001b[0m\u001b[1;36m0\u001b[0m\u001b[1;33m]\u001b[0m\u001b[1;33m)\u001b[0m\u001b[1;33m\u001b[0m\u001b[1;33m\u001b[0m\u001b[0m\n\u001b[0m\u001b[0;32m      5\u001b[0m \u001b[1;31m# netlist.nodes[\"G2\"][\"attr\"] = 1   # 可以为节点赋予新的特征\u001b[0m\u001b[1;33m\u001b[0m\u001b[1;33m\u001b[0m\u001b[1;33m\u001b[0m\u001b[0m\n",
      "\u001b[1;32mc:\\Users\\Chuan\\anaconda3\\lib\\site-packages\\networkx\\classes\\reportviews.py\u001b[0m in \u001b[0;36m__getitem__\u001b[1;34m(self, e)\u001b[0m\n\u001b[0;32m   1360\u001b[0m             )\n\u001b[0;32m   1361\u001b[0m         \u001b[0mu\u001b[0m\u001b[1;33m,\u001b[0m \u001b[0mv\u001b[0m\u001b[1;33m,\u001b[0m \u001b[0mk\u001b[0m \u001b[1;33m=\u001b[0m \u001b[0me\u001b[0m\u001b[1;33m\u001b[0m\u001b[1;33m\u001b[0m\u001b[0m\n\u001b[1;32m-> 1362\u001b[1;33m         \u001b[1;32mreturn\u001b[0m \u001b[0mself\u001b[0m\u001b[1;33m.\u001b[0m\u001b[0m_adjdict\u001b[0m\u001b[1;33m[\u001b[0m\u001b[0mu\u001b[0m\u001b[1;33m]\u001b[0m\u001b[1;33m[\u001b[0m\u001b[0mv\u001b[0m\u001b[1;33m]\u001b[0m\u001b[1;33m[\u001b[0m\u001b[0mk\u001b[0m\u001b[1;33m]\u001b[0m\u001b[1;33m\u001b[0m\u001b[1;33m\u001b[0m\u001b[0m\n\u001b[0m\u001b[0;32m   1363\u001b[0m \u001b[1;33m\u001b[0m\u001b[0m\n\u001b[0;32m   1364\u001b[0m     \u001b[1;32mdef\u001b[0m \u001b[0m__call__\u001b[0m\u001b[1;33m(\u001b[0m\u001b[0mself\u001b[0m\u001b[1;33m,\u001b[0m \u001b[0mnbunch\u001b[0m\u001b[1;33m=\u001b[0m\u001b[1;32mNone\u001b[0m\u001b[1;33m,\u001b[0m \u001b[0mdata\u001b[0m\u001b[1;33m=\u001b[0m\u001b[1;32mFalse\u001b[0m\u001b[1;33m,\u001b[0m \u001b[0mkeys\u001b[0m\u001b[1;33m=\u001b[0m\u001b[1;32mFalse\u001b[0m\u001b[1;33m,\u001b[0m \u001b[0mdefault\u001b[0m\u001b[1;33m=\u001b[0m\u001b[1;32mNone\u001b[0m\u001b[1;33m)\u001b[0m\u001b[1;33m:\u001b[0m\u001b[1;33m\u001b[0m\u001b[1;33m\u001b[0m\u001b[0m\n",
      "\u001b[1;31mKeyError\u001b[0m: 'inst_522'"
     ]
    }
   ],
   "source": [
    "print(netlist.get_edge_data('G2', 'inst_5'))\n",
    "print(netlist.nodes[\"inst_14\"])\n",
    "print(netlist.filter_niotype(\"input\",io_flag=io_flag))\n",
    "print(netlist.edges[\"G2\",\"inst_522\",0])\n",
    "# netlist.nodes[\"G2\"][\"attr\"] = 1   # 可以为节点赋予新的特征"
   ]
  }
 ],
 "metadata": {
  "kernelspec": {
   "display_name": "base",
   "language": "python",
   "name": "python3"
  },
  "language_info": {
   "codemirror_mode": {
    "name": "ipython",
    "version": 3
   },
   "file_extension": ".py",
   "mimetype": "text/x-python",
   "name": "python",
   "nbconvert_exporter": "python",
   "pygments_lexer": "ipython3",
   "version": "3.8.15"
  },
  "orig_nbformat": 4
 },
 "nbformat": 4,
 "nbformat_minor": 2
}
